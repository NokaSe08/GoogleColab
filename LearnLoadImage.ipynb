{
  "nbformat": 4,
  "nbformat_minor": 0,
  "metadata": {
    "colab": {
      "name": "LearnLoadImage.ipynb",
      "provenance": [],
      "collapsed_sections": [],
      "mount_file_id": "11ymdXeefS3w8EWhLD4JAkaOQOAKAvhHp",
      "authorship_tag": "ABX9TyNdDuQIHin1Wd0pSVHHqnxC",
      "include_colab_link": true
    },
    "kernelspec": {
      "name": "python3",
      "display_name": "Python 3"
    },
    "accelerator": "GPU"
  },
  "cells": [
    {
      "cell_type": "markdown",
      "metadata": {
        "id": "view-in-github",
        "colab_type": "text"
      },
      "source": [
        "<a href=\"https://colab.research.google.com/github/NokaSe08/GoogleColab/blob/master/LearnLoadImage.ipynb\" target=\"_parent\"><img src=\"https://colab.research.google.com/assets/colab-badge.svg\" alt=\"Open In Colab\"/></a>"
      ]
    },
    {
      "cell_type": "code",
      "metadata": {
        "id": "TPBvU3uItRXr"
      },
      "source": [
        "!pip3 uninstall keras\n",
        "!pip3 uninstall imageai\n",
        "!pip3 uninstall tensorflow\n",
        "!pip3 uninstall numpy"
      ],
      "execution_count": null,
      "outputs": []
    },
    {
      "cell_type": "code",
      "metadata": {
        "id": "WvRGPt3zyzNd"
      },
      "source": [
        "!pip3 install tensorflow==1.13.1\n",
        "!pip3 install opencv-python\n",
        "!pip3 install keras==2.2.4\n",
        "!pip3 install numpy==1.16.1\n",
        "!pip3 install imageai --upgrade"
      ],
      "execution_count": null,
      "outputs": []
    },
    {
      "cell_type": "code",
      "metadata": {
        "id": "FT2-QcH8tZKA"
      },
      "source": [
        "from imageai.Detection import ObjectDetection\n",
        "import os\n",
        "\n",
        "execution_path = os.getcwd()\n",
        "\n",
        "detector = ObjectDetection()\n",
        "detector.setModelTypeAsYOLOv3()\n",
        "detector.setModelPath( os.path.join(execution_path , \"yolo.h5\"))\n",
        "detector.loadModel()\n",
        "detections = detector.detectObjectsFromImage(input_image=os.path.join(execution_path , \"image2.jpg\"), output_image_path=os.path.join(execution_path , \"image2new.jpg\"), minimum_percentage_probability=30)\n",
        "\n",
        "for eachObject in detections:\n",
        "    print(eachObject[\"name\"] , \" : \", eachObject[\"percentage_probability\"], \" : \", eachObject[\"box_points\"] )\n",
        "    print(\"--------------------------------\")"
      ],
      "execution_count": null,
      "outputs": []
    }
  ]
}